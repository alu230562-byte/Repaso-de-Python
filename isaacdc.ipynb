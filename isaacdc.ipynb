{
  "nbformat": 4,
  "nbformat_minor": 0,
  "metadata": {
    "colab": {
      "provenance": [],
      "authorship_tag": "ABX9TyOQlQL76JsEpRGDzUTHVRFF",
      "include_colab_link": true
    },
    "kernelspec": {
      "name": "python3",
      "display_name": "Python 3"
    },
    "language_info": {
      "name": "python"
    }
  },
  "cells": [
    {
      "cell_type": "markdown",
      "metadata": {
        "id": "view-in-github",
        "colab_type": "text"
      },
      "source": [
        "<a href=\"https://colab.research.google.com/github/alu230562-byte/Repaso-de-Python/blob/main/isaacdc.ipynb\" target=\"_parent\"><img src=\"https://colab.research.google.com/assets/colab-badge.svg\" alt=\"Open In Colab\"/></a>"
      ]
    },
    {
      "cell_type": "code",
      "execution_count": null,
      "metadata": {
        "id": "5dUW-3om-81r"
      },
      "outputs": [],
      "source": []
    },
    {
      "cell_type": "markdown",
      "source": [
        "Realizar un programa en python que te permita capturar 3 números enteros e imprima cual de los 3 es el mayor\n"
      ],
      "metadata": {
        "id": "VP5LBU7J_SGk"
      }
    },
    {
      "cell_type": "code",
      "source": [
        "num1=int(input(\"ingresa el primer numero:\"))\n",
        "num2=int(input(\"ingresa el segundo numero:\"))\n",
        "num3=int(input(\"ingresa el tercer numero:\"))\n",
        "\n",
        "mayor = max(num1,num2,num3)\n",
        "print(\"el numero mayor es:\",mayor)\n"
      ],
      "metadata": {
        "colab": {
          "base_uri": "https://localhost:8080/"
        },
        "id": "cobWXlTB_kVI",
        "outputId": "dd0e88d3-02fc-4560-baee-2f7edaf7a7f1"
      },
      "execution_count": 6,
      "outputs": [
        {
          "output_type": "stream",
          "name": "stdout",
          "text": [
            "ingresa el primer numero:20\n",
            "ingresa el segundo numero:25\n",
            "ingresa el tercer numero:45\n",
            "el numero mayor es: 45\n"
          ]
        }
      ]
    },
    {
      "cell_type": "markdown",
      "source": [
        "Realizar un programa en python mediante el cual calcules el total de caracteres que tiene un nombre capturado desde el teclado.\n"
      ],
      "metadata": {
        "id": "M0ptDBlm_px2"
      }
    },
    {
      "cell_type": "code",
      "source": [
        "nombre = input(\"ingresa tu  nombre:\")\n",
        "caracteres =len(nombre)\n",
        "print(\"la palabra tiene\", caracteres,\"caracteres.\")\n"
      ],
      "metadata": {
        "colab": {
          "base_uri": "https://localhost:8080/"
        },
        "id": "TbRxKvAW_uW2",
        "outputId": "f79d5bef-3b3e-4fe7-df13-f5ee0d53127c"
      },
      "execution_count": 9,
      "outputs": [
        {
          "output_type": "stream",
          "name": "stdout",
          "text": [
            "ingresa tu  nombre:isaac\n",
            "la palabra tiene 5 caracteres.\n"
          ]
        }
      ]
    },
    {
      "cell_type": "markdown",
      "source": [
        "Realizar un programa en python que permita imprimir los 7 días de la semana."
      ],
      "metadata": {
        "id": "fWn8IRpk_vke"
      }
    },
    {
      "cell_type": "code",
      "source": [
        "respuesta = input(\"presiona 0 para los dias de la semana y 2 para cerrar el programa:\")\n",
        "if respuesta == \"0\":\n",
        "  print(\"lunes\")\n",
        "  print(\"martes\")\n",
        "  print(\"miercoles\")\n",
        "  print(\"juevez\")\n",
        "  print(\"viernes\")\n",
        "  print(\"sabado\")\n",
        "  print(\"domingo\")"
      ],
      "metadata": {
        "colab": {
          "base_uri": "https://localhost:8080/"
        },
        "id": "fIXW0sax_z3d",
        "outputId": "3c14aaa4-c24f-4dad-d347-c407a2617812"
      },
      "execution_count": 14,
      "outputs": [
        {
          "output_type": "stream",
          "name": "stdout",
          "text": [
            "presiona 0 para los dias de la semana y 2 para cerrar el programa:0\n",
            "lunes\n",
            "martes\n",
            "miercoles\n",
            "juevez\n",
            "viernes\n",
            "sabado\n",
            "domingo\n"
          ]
        }
      ]
    }
  ]
}