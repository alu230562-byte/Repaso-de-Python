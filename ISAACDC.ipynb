{
  "nbformat": 4,
  "nbformat_minor": 0,
  "metadata": {
    "colab": {
      "provenance": [],
      "authorship_tag": "ABX9TyOjy/vuTQgVE5JsZy1DzB7B",
      "include_colab_link": true
    },
    "kernelspec": {
      "name": "python3",
      "display_name": "Python 3"
    },
    "language_info": {
      "name": "python"
    }
  },
  "cells": [
    {
      "cell_type": "markdown",
      "metadata": {
        "id": "view-in-github",
        "colab_type": "text"
      },
      "source": [
        "<a href=\"https://colab.research.google.com/github/alu230562-byte/Repaso-de-Python/blob/main/ISAACDC.ipynb\" target=\"_parent\"><img src=\"https://colab.research.google.com/assets/colab-badge.svg\" alt=\"Open In Colab\"/></a>"
      ]
    },
    {
      "cell_type": "markdown",
      "source": [],
      "metadata": {
        "id": "2UWWboXc_Of-"
      }
    },
    {
      "cell_type": "code",
      "execution_count": null,
      "metadata": {
        "id": "89v6nQan-6r5"
      },
      "outputs": [],
      "source": []
    },
    {
      "cell_type": "markdown",
      "source": [],
      "metadata": {
        "id": "j4yJbYjkC0r6"
      }
    },
    {
      "cell_type": "code",
      "source": [
        "capturarNombre= input(\"escrible tu nombre:\")\n",
        "print(\"bienvenida!!!\")\n",
        "print(\"tu nombre es :\",capturarNombre)"
      ],
      "metadata": {
        "colab": {
          "base_uri": "https://localhost:8080/"
        },
        "id": "Lr7aaT7R_kFE",
        "outputId": "70a6249e-5ead-4636-cf57-77592344420a"
      },
      "execution_count": 7,
      "outputs": [
        {
          "output_type": "stream",
          "name": "stdout",
          "text": [
            "escrible tu nombre:isaac\n",
            "bienvenida!!!\n",
            "tu nombre es : isaac\n"
          ]
        }
      ]
    },
    {
      "cell_type": "markdown",
      "source": [
        "realiza un programa que permita capturar 2 numeros enteros e imprima la suma,la resta,la multiplicacion y la division entre ellos."
      ],
      "metadata": {
        "id": "2YYmq-I5DDQj"
      }
    },
    {
      "cell_type": "code",
      "source": [
        "num1=int(input(\"captura un numero\"))\n",
        "num2=int(input(\"captura un numero\"))\n",
        "s=num1+num2\n",
        "r=num1-num2\n",
        "m=num1*num2\n",
        "d=num1/num2\n",
        "print(\"la suma es\",s)\n",
        "print(\"la resta es\",r)\n",
        "print(\"la multiplicacion es\",m)\n",
        "print(\"la divicion es\",d)"
      ],
      "metadata": {
        "colab": {
          "base_uri": "https://localhost:8080/"
        },
        "id": "jce3oOXxDYJS",
        "outputId": "dcf90008-f4b5-43cc-b333-81810a2e36dd"
      },
      "execution_count": 8,
      "outputs": [
        {
          "output_type": "stream",
          "name": "stdout",
          "text": [
            "captura un numero24\n",
            "captura un numero09\n",
            "la suma es 33\n",
            "la resta es 15\n",
            "la multiplicacion es 216\n",
            "la divicion es 2.6666666666666665\n"
          ]
        }
      ]
    },
    {
      "cell_type": "markdown",
      "source": [
        "realizar un progra,ma que permita capturar tu nombre y lo imprima seguido de una bienvenida"
      ],
      "metadata": {
        "id": "1_vcVEA3_Sr9"
      }
    }
  ]
}